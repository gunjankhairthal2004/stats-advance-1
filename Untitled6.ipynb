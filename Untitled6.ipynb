{
  "nbformat": 4,
  "nbformat_minor": 0,
  "metadata": {
    "colab": {
      "provenance": []
    },
    "kernelspec": {
      "name": "python3",
      "display_name": "Python 3"
    },
    "language_info": {
      "name": "python"
    }
  },
  "cells": [
    {
      "cell_type": "markdown",
      "source": [
        "# answer 1\n",
        "A random variable is a key concept in statistics that connects theoretical probability with real-world data. It is a function that assigns a real number to each outcome in the sample space of a random experiment.\n",
        "\n"
      ],
      "metadata": {
        "id": "MscChTsoF1t0"
      }
    },
    {
      "cell_type": "markdown",
      "source": [
        "# answer 2\n",
        "Random variables are of two types that are as follows:\n",
        "1)Discrete Random Variable:\n",
        "A Discrete Random Variable takes on a finite or countably infinite number of values. The probability function associated with a discrete random variable is called as Probability Mass Function.\n",
        "2)Continuous Random Variable:\n",
        "A Continuous Random Variable takes on an infinite number of values. The probability function associated with it is said to be PDF (Probability Density Function).\n",
        "\n",
        "\n",
        "\n",
        "\n",
        "\n"
      ],
      "metadata": {
        "id": "HKixF1L6HD50"
      }
    },
    {
      "cell_type": "markdown",
      "source": [
        "# answer 3\n",
        "A discrete probability distribution describes the likelihood of each possible outcome for a discrete random variable. A discrete random variable is a variable that can take on a countable number of distinct values, typically whole numbers whereas Continuous probability distributions are probability distributions that apply to continuous random variables. It describes events that can take on any value within a specific range.\n",
        "\n",
        "\n",
        "\n"
      ],
      "metadata": {
        "id": "T4nIilzUHhWq"
      }
    },
    {
      "cell_type": "markdown",
      "source": [
        "# answer 4\n",
        "Binomial Distribution is a probability distribution used to model the number of successes in a fixed number of independent trials, where each trial has only two possible outcomes: success or failure. This distribution is useful for calculating the probability of a specific number of successes.\n",
        "\n",
        "\n",
        "\n",
        "#It's used in probability:\n",
        "1)You do a fixed number of trials eg:flipping a coin 7 times.\n",
        "2)Each trial has only two outcomes eg:heads or tails.\n",
        "3)The probability of success eg:getting heads is the same each time.\n",
        "\n",
        "\n",
        "\n"
      ],
      "metadata": {
        "id": "GN9CRrbiJAy-"
      }
    },
    {
      "cell_type": "markdown",
      "source": [
        "# answer 5\n",
        "Standard normal distribution, also known as the z-distribution, is a special type of normal distribution. In this distribution, the mean (average) is 0 and the standard deviation (a measure of spread) is 1. This creates a bell-shaped curve that is symmetrical around the mean.\n",
        "# it is important because:\n",
        "1)Determining standard normal distribution density probabilities and areas under the curve.\n",
        "2)Estimating and comparing population proportions.\n",
        "3)Using standard scores in psychological assessments.\n"
      ],
      "metadata": {
        "id": "eBdgJcd4NKh3"
      }
    },
    {
      "cell_type": "markdown",
      "source": [
        "# answer 6\n",
        "The Central Limit Theorem in Statistics states that as the sample size increases and its variance is finite, then the distribution of the sample mean approaches the normal distribution, irrespective of the shape of the population distribution.\n",
        "#It is critical because:\n",
        "1)It helps us to make predictions about data even if we don't know how it's distributed originally.\n",
        "2)It lets us use normal distribution tricks (like z-scores) to analyze data.\n",
        "\n",
        "\n"
      ],
      "metadata": {
        "id": "zJ-zgnK0PByR"
      }
    },
    {
      "cell_type": "markdown",
      "source": [
        "# answer 7\n",
        "1)A confidence interval gives a range of plausible values for the unknown population parameter, accounting for sampling variability.\n",
        "2)A confidence interval gives a range, helping understand the precision of the estimate.\n",
        "3)Confidence intervals allow researchers to make inferences about the population."
      ],
      "metadata": {
        "id": "1zeg3kaRS5q1"
      }
    },
    {
      "cell_type": "markdown",
      "source": [
        "# answer 8\n",
        "Expectations have a lot of use cases and applications in real life. These concepts are used by insurance companies to compute the probability of death for a person. Expectations are also used in games of chance. For example, while playing poker, or maybe analyzing a lottery system. Analysts use it to compute the probability of winning.\n",
        "\n"
      ],
      "metadata": {
        "id": "HIe1UG_fbxFy"
      }
    },
    {
      "cell_type": "markdown",
      "source": [
        "# answer 9\n"
      ],
      "metadata": {
        "id": "REPdiep7ejPE"
      }
    },
    {
      "cell_type": "code",
      "source": [
        "import numpy as np\n",
        "import matplotlib.pyplot as plt\n",
        "\n",
        "numbers = np.random.normal(50, 5, 1000)\n",
        "\n",
        "mean = np.mean(numbers)\n",
        "std_dev = np.std(numbers)\n",
        "\n",
        "print(f\"Mean: {mean}\")\n",
        "print(f\"Standard Deviation: {std_dev}\")\n",
        "\n",
        "plt.hist(numbers, bins=30)\n",
        "plt.title('Normal Distribution Histogram')\n",
        "plt.xlabel('Value')\n",
        "plt.ylabel('Frequency')\n",
        "plt.show()"
      ],
      "metadata": {
        "colab": {
          "base_uri": "https://localhost:8080/",
          "height": 507
        },
        "id": "1gxc-8PkeunI",
        "outputId": "0420c316-caab-436e-a703-2db9c544e82d"
      },
      "execution_count": null,
      "outputs": [
        {
          "output_type": "stream",
          "name": "stdout",
          "text": [
            "Mean: 50.08748477510604\n",
            "Standard Deviation: 4.888387901512763\n"
          ]
        },
        {
          "output_type": "display_data",
          "data": {
            "text/plain": [
              "<Figure size 640x480 with 1 Axes>"
            ],
            "image/png": "[encoded data removed]"
          },
          "metadata": {}
        }
      ]
    },
    {
      "cell_type": "markdown",
      "source": [
        "# answer 10\n",
        "1)Calculate the mean of the daily sales data.\n",
        "2)After that calculate the standard deviation.\n",
        "3)Than for 95% confidence interval we have to use Z-score = 1.96 after that calculate the interval as mean.\n"
      ],
      "metadata": {
        "id": "OAdb2OyrfC7X"
      }
    },
    {
      "cell_type": "code",
      "source": [
        "import numpy as np\n",
        "from scipy import stats\n",
        "\n",
        "daily_sales = [220, 245, 210, 265, 230, 250, 260, 275, 240, 255,\n",
        "               235, 260, 245, 250, 225, 270, 265, 255, 250, 260]\n",
        "\n",
        "mean_sales = np.mean(daily_sales)\n",
        "std_dev = np.std(daily_sales, ddof=0)\n",
        "n = len(daily_sales)\n",
        "std_error = std_dev / np.sqrt(n)\n",
        "\n",
        "z_score = stats.norm.ppf(0.975)\n",
        "ci_lower = mean_sales - z_score * std_error\n",
        "ci_upper = mean_sales + z_score * std_error\n",
        "\n",
        "print(f\"Mean Sales: {mean_sales:.2f}\")\n",
        "print(f\"95% Confidence Interval: ({ci_lower:.2f}, {ci_upper:.2f})\")"
      ],
      "metadata": {
        "colab": {
          "base_uri": "https://localhost:8080/"
        },
        "id": "c986qbLyfFNo",
        "outputId": "178bad83-5306-45f6-b2ec-72ba8fb4aaa4"
      },
      "execution_count": null,
      "outputs": [
        {
          "output_type": "stream",
          "name": "stdout",
          "text": [
            "Mean Sales: 248.25\n",
            "95% Confidence Interval: (240.87, 255.63)\n"
          ]
        }
      ]
    }
  ]
}